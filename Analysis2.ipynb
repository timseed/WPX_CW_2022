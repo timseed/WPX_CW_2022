{
 "cells": [
  {
   "cell_type": "code",
   "execution_count": 53,
   "id": "892871d2",
   "metadata": {},
   "outputs": [],
   "source": [
    "import pandas as pd\n",
    "import numpy as np\n",
    "contest=pd.read_csv('WPX_CW_2023.csv')"
   ]
  },
  {
   "cell_type": "code",
   "execution_count": 69,
   "id": "b669aff1",
   "metadata": {},
   "outputs": [
    {
     "name": "stdout",
     "output_type": "stream",
     "text": [
      "Total records 3900762\n"
     ]
    }
   ],
   "source": [
    "# Easy Markdown formatting\n",
    "def df_to_md(pd):\n",
    "    text=pd.to_markdown();\n",
    "    for a in text.split('\\n'):\n",
    "        print(f\"{a}\")\n",
    "\n",
    "from datetime import timedelta, datetime\n",
    "\n",
    "def ceil_date(date, **kwargs):\n",
    "    secs = timedelta(**kwargs).total_seconds()\n",
    "    return datetime.fromtimestamp(date.timestamp() + secs - date.timestamp() % secs)\n",
    "\n",
    "def floor_date(date, **kwargs):\n",
    "    secs = timedelta(**kwargs).total_seconds()\n",
    "    return datetime.fromtimestamp(date.timestamp() - date.timestamp() % secs)\n",
    "\n",
    "contest['date']=pd.to_datetime(contest.date,format='%Y-%m-%d %H:%M:%S',errors=\"ignore\")     \n",
    "contest['date_rounded_5m'] =contest['date'].apply(lambda x: floor_date(x, minutes=5))      \n",
    "contest=contest.dropna()\n",
    "\n",
    "print(f\"Total records {len(contest)}\")"
   ]
  },
  {
   "cell_type": "code",
   "execution_count": 70,
   "id": "6442b9bc",
   "metadata": {},
   "outputs": [
    {
     "name": "stdout",
     "output_type": "stream",
     "text": [
      "We have 3417 spots for DU calls on 10m band.\n"
     ]
    }
   ],
   "source": [
    "# Lets just see the 10M band\n",
    "TenM = contest[contest.band=='10m']\n",
    "DU_Spots_All = contest[contest.dx_pfx=='DU']\n",
    "DU_Spots_10M = contest[(contest.dx_pfx=='DU')&(contest.band=='10m')]\n",
    "print(f\"We have {len(DU_Spots_10M)} spots for DU calls on 10m band.\")\n"
   ]
  },
  {
   "cell_type": "code",
   "execution_count": 71,
   "id": "6906088a",
   "metadata": {},
   "outputs": [],
   "source": [
    "# Lets Summarize 10M DU Spots \n",
    "du_10m_summary=DU_Spots_10M.groupby(['dx'])['callsign'].count().sort_values(ascending=False).reset_index()\n",
    "du_10m_summary.columns=['Call','Spotted_Count']"
   ]
  },
  {
   "cell_type": "code",
   "execution_count": 72,
   "id": "957db2b4",
   "metadata": {},
   "outputs": [
    {
     "name": "stdout",
     "output_type": "stream",
     "text": [
      "|    | Call   |   Spotted_Count |\n",
      "|---:|:-------|----------------:|\n",
      "|  0 | 4F3OM  |            1009 |\n",
      "|  1 | 4I1EBC |             789 |\n",
      "|  2 | DU3T   |             500 |\n",
      "|  3 | DV3A   |             488 |\n",
      "|  4 | DU1WBX |             256 |\n",
      "|  5 | 4D3X   |             188 |\n",
      "|  6 | 4F3BZ  |              99 |\n",
      "|  7 | DU1EV  |              31 |\n",
      "|  8 | DU1VGX |              16 |\n",
      "|  9 | DX9EVM |              13 |\n"
     ]
    }
   ],
   "source": [
    "df_to_md(du_10m_summary[du_10m_summary.Spotted_Count>10])"
   ]
  },
  {
   "cell_type": "code",
   "execution_count": 77,
   "id": "27768c47",
   "metadata": {},
   "outputs": [],
   "source": [
    "DU_QRP = contest[(contest.dx_pfx=='DU')&(contest.band=='10m') & ((contest.dx=='4E1ABC') |(contest.dx=='4F3OM'))]\n",
    "DU_HP = contest[(contest.dx_pfx=='DU')&(contest.band=='10m') & ((contest.dx=='DU3T') |(contest.dx=='DV3A')|(contest.dx=='DU1EV'))]\n",
    "DU_LP=contest[(contest.dx_pfx=='DU')&(contest.band=='10m') & ((contest.dx=='4D3X') |(contest.dx=='4E1AGW')|(contest.dx=='4F3BZ'))]"
   ]
  },
  {
   "cell_type": "code",
   "execution_count": 87,
   "id": "3b5d697c",
   "metadata": {},
   "outputs": [
    {
     "name": "stdout",
     "output_type": "stream",
     "text": [
      "|     | date_rounded_5m     | callsign   |   freq_x | dx_x   |   freq_y | dx_y   |   db_x |   db_y |\n",
      "|----:|:--------------------|:-----------|---------:|:-------|---------:|:-------|-------:|-------:|\n",
      "|  16 | 2022-05-28 08:50:00 | VK6ANC     |  28037.6 | DV3A   |  28019.9 | 4F3OM  |     22 |     25 |\n",
      "|  36 | 2022-05-28 10:30:00 | VU3KAZ     |  28024.4 | DU3T   |  28032   | 4F3OM  |     21 |     21 |\n",
      "|  48 | 2022-05-28 10:50:00 | BG4WOM     |  28024.7 | DU3T   |  28032.2 | 4F3OM  |     25 |     31 |\n",
      "|  49 | 2022-05-28 10:50:00 | BG4WOM     |  28053.5 | DV3A   |  28032.2 | 4F3OM  |     24 |     31 |\n",
      "|  61 | 2022-05-28 11:00:00 | BD7LAE     |  28024.4 | DU3T   |  28039.9 | 4F3OM  |     32 |     32 |\n",
      "| 141 | 2022-05-30 06:30:00 | VK4CT      |  28002.1 | DV3A   |  28032.9 | 4F3OM  |     13 |     14 |\n"
     ]
    }
   ],
   "source": [
    "HP_vs_QRP=pd.merge(DU_HP,DU_QRP,on=['callsign','date_rounded_5m'],how='inner')[['date_rounded_5m','callsign','freq_x','dx_x','freq_y','dx_y','db_x','db_y']]\n",
    "df_to_md(HP_vs_QRP[HP_vs_QRP.db_y >= HP_vs_QRP.db_x])"
   ]
  },
  {
   "cell_type": "code",
   "execution_count": 90,
   "id": "85dd868e",
   "metadata": {},
   "outputs": [
    {
     "name": "stdout",
     "output_type": "stream",
     "text": [
      "|    | date_rounded_5m     | callsign   |   freq_x | dx_x   |   freq_y | dx_y   |   db_x |   db_y |\n",
      "|---:|:--------------------|:-----------|---------:|:-------|---------:|:-------|-------:|-------:|\n",
      "| 30 | 2022-05-29 14:00:00 | JH7CSU1    |  28009.2 | 4F3BZ  |  28040.1 | 4F3OM  |     12 |     21 |\n",
      "| 34 | 2022-05-29 14:30:00 | JA4ZRK     |  28033   | 4F3BZ  |  28001   | 4F3OM  |      3 |      8 |\n",
      "| 46 | 2022-05-29 16:05:00 | JH7CSU1    |  28034.1 | 4F3BZ  |  28023.6 | 4F3OM  |     18 |     20 |\n",
      "| 47 | 2022-05-29 16:10:00 | VU3KAZ     |  28034   | 4F3BZ  |  28023.5 | 4F3OM  |     15 |     17 |\n"
     ]
    }
   ],
   "source": [
    "LP_vs_QRP=pd.merge(DU_LP,DU_QRP,on=['callsign','date_rounded_5m'],how='inner')[['date_rounded_5m','callsign','freq_x','dx_x','freq_y','dx_y','db_x','db_y']]\n",
    "df_to_md(LP_vs_QRP[LP_vs_QRP.db_y >= LP_vs_QRP.db_x])"
   ]
  },
  {
   "cell_type": "code",
   "execution_count": 135,
   "id": "2483de79",
   "metadata": {},
   "outputs": [
    {
     "data": {
      "text/plain": [
       "438"
      ]
     },
     "execution_count": 135,
     "metadata": {},
     "output_type": "execute_result"
    }
   ],
   "source": [
    "\n",
    "TenMBeacon=TenM[TenM['mode']=='NCDXF B']\n",
    "len(TenMBeacon)"
   ]
  },
  {
   "cell_type": "code",
   "execution_count": 132,
   "id": "29c0eeec",
   "metadata": {},
   "outputs": [
    {
     "data": {
      "text/plain": [
       "array(['JI1HFJ', 'HS/F8UKP', 'VU3KAZ'], dtype=object)"
      ]
     },
     "execution_count": 132,
     "metadata": {},
     "output_type": "execute_result"
    }
   ],
   "source": [
    "pd.merge(TenMBeacon,DU_QRP,on=['callsign'],how='inner')['callsign'].unique()"
   ]
  },
  {
   "cell_type": "code",
   "execution_count": 133,
   "id": "013ee3a5",
   "metadata": {},
   "outputs": [
    {
     "data": {
      "text/plain": [
       "array(['JI1HFJ', 'HS/F8UKP', 'VU3KAZ', '9M2CNC'], dtype=object)"
      ]
     },
     "execution_count": 133,
     "metadata": {},
     "output_type": "execute_result"
    }
   ],
   "source": [
    "pd.merge(TenMBeacon,DU_LP,on=['callsign'],how='inner')['callsign'].unique()"
   ]
  },
  {
   "cell_type": "code",
   "execution_count": 150,
   "id": "3d7a61d3",
   "metadata": {},
   "outputs": [
    {
     "name": "stdout",
     "output_type": "stream",
     "text": [
      "|    | callsign   | dx_x   |   db_x |\n",
      "|---:|:-----------|:-------|-------:|\n",
      "|  0 | HS/F8UKP   | 4X6TU  |      6 |\n",
      "|  1 | HS/F8UKP   | JA2IGY |     13 |\n",
      "|  2 | HS/F8UKP   | RR9O   |      6 |\n",
      "|  3 | HS/F8UKP   | VK6RBP |     16 |\n",
      "|  4 | HS/F8UKP   | VR2B   |     16 |\n",
      "|  5 | JI1HFJ     | JA2IGY |     24 |\n",
      "|  6 | JI1HFJ     | KH6RS  |     15 |\n",
      "|  7 | JI1HFJ     | VR2B   |     25 |\n",
      "|  8 | VU3KAZ     | 4X6TU  |     38 |\n",
      "|  9 | VU3KAZ     | 5Z4B   |     36 |\n",
      "| 10 | VU3KAZ     | JA2IGY |     25 |\n",
      "| 11 | VU3KAZ     | OH2B   |     28 |\n",
      "| 12 | VU3KAZ     | RR9O   |     29 |\n",
      "| 13 | VU3KAZ     | VK6RBP |     34 |\n",
      "| 14 | VU3KAZ     | VR2B   |     37 |\n",
      "| 15 | VU3KAZ     | ZS6DN  |     27 |\n"
     ]
    }
   ],
   "source": [
    "df_to_md(pd.merge(TenMBeacon,DU_QRP,on=['callsign'],how='inner')[['callsign','dx_x','db_x']].groupby(['callsign','dx_x']).max().reset_index())"
   ]
  },
  {
   "cell_type": "code",
   "execution_count": 187,
   "id": "0824e08c",
   "metadata": {},
   "outputs": [],
   "source": [
    "SigReport=DU_Spots_10M[DU_Spots_10M.callsign=='JI1HFJ'].groupby(['dx'])[['db']].max().sort_values(by=['db'],ascending=False).reset_index()"
   ]
  },
  {
   "cell_type": "code",
   "execution_count": 188,
   "id": "7babc2e1",
   "metadata": {},
   "outputs": [],
   "source": [
    "SigReport['KnownPower']=0\n",
    "\n",
    "SigReport.loc[2, 'KnownPower'] = 400\n",
    "SigReport.loc[4, 'KnownPower'] = 100\n",
    "SigReport.loc[6, 'KnownPower'] = 100\n",
    "\n",
    "\n",
    "SigReport['AntGain']=6\n",
    "\n",
    "Class=['HP','HP','HP','QRP','LP','QRP','LP','LP','LP','LP']\n",
    "MaxP=[1200,800,400,5,100,5,100,100,100,100]\n",
    "SigReport['Class']=Class\n",
    "#SigReport['MaxP']=MaxP\n",
    "\n"
   ]
  },
  {
   "cell_type": "code",
   "execution_count": 190,
   "id": "0a19085a",
   "metadata": {},
   "outputs": [
    {
     "name": "stdout",
     "output_type": "stream",
     "text": [
      "|    | dx     |   db |   KnownPower |   AntGain | Class   |\n",
      "|---:|:-------|-----:|-------------:|----------:|:--------|\n",
      "|  0 | DU3T   |   36 |            0 |         6 | HP      |\n",
      "|  1 | DU1EV  |   34 |            0 |         6 | HP      |\n",
      "|  2 | DV3A   |   30 |          400 |         6 | HP      |\n",
      "|  3 | 4I1EBC |   27 |            0 |         6 | QRP     |\n",
      "|  4 | 4D3X   |   25 |          100 |         6 | LP      |\n",
      "|  5 | 4F3OM  |   23 |            0 |         6 | QRP     |\n",
      "|  6 | 4F3BZ  |   21 |          100 |         6 | LP      |\n",
      "|  7 | DU1WBX |   13 |            0 |         6 | LP      |\n",
      "|  8 | DU1VGX |    6 |            0 |         6 | LP      |\n",
      "|  9 | DU1WN  |    2 |            0 |         6 | LP      |\n"
     ]
    }
   ],
   "source": [
    "df_to_md(SigReport)"
   ]
  },
  {
   "cell_type": "code",
   "execution_count": null,
   "id": "de19cc2e",
   "metadata": {},
   "outputs": [],
   "source": []
  }
 ],
 "metadata": {
  "kernelspec": {
   "display_name": "Python 3 (ipykernel)",
   "language": "python",
   "name": "python3"
  },
  "language_info": {
   "codemirror_mode": {
    "name": "ipython",
    "version": 3
   },
   "file_extension": ".py",
   "mimetype": "text/x-python",
   "name": "python",
   "nbconvert_exporter": "python",
   "pygments_lexer": "ipython3",
   "version": "3.10.4"
  }
 },
 "nbformat": 4,
 "nbformat_minor": 5
}
